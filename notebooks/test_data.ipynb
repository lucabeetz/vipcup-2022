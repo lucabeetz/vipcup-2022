{
 "cells": [
  {
   "cell_type": "code",
   "execution_count": 11,
   "metadata": {},
   "outputs": [],
   "source": [
    "import torch\n",
    "from src.transform import ProvidedTransform"
   ]
  },
  {
   "cell_type": "code",
   "execution_count": 12,
   "metadata": {},
   "outputs": [],
   "source": [
    "val_wsubset = torch.load('/mnt/hdd-data/DeepfakeIEEE/notebooks/val_wsubset.pt')"
   ]
  },
  {
   "cell_type": "code",
   "execution_count": 14,
   "metadata": {},
   "outputs": [
    {
     "data": {
      "text/plain": [
       "18560"
      ]
     },
     "execution_count": 14,
     "metadata": {},
     "output_type": "execute_result"
    }
   ],
   "source": [
    "len([val_wsubset[0].dataset.samples[i][0] for i in val_wsubset[0].indices])"
   ]
  },
  {
   "cell_type": "code",
   "execution_count": 1,
   "metadata": {},
   "outputs": [
    {
     "name": "stderr",
     "output_type": "stream",
     "text": [
      "/mnt/hdd-data/beetz/miniconda3/envs/torch/lib/python3.10/site-packages/tqdm/auto.py:22: TqdmWarning: IProgress not found. Please update jupyter and ipywidgets. See https://ipywidgets.readthedocs.io/en/stable/user_install.html\n",
      "  from .autonotebook import tqdm as notebook_tqdm\n"
     ]
    },
    {
     "name": "stdout",
     "output_type": "stream",
     "text": [
      "5193285296525143110 -1116505121706091345 1251886207728676990\n",
      "tensor([5.5537e-05, 1.2005e-03, 1.0684e-03, 1.8888e-03, 2.6849e-03, 8.3383e-04,\n",
      "        8.3163e-04, 2.7484e-03, 3.4416e-03, 9.1786e-03, 9.3490e-03, 2.0296e-03,\n",
      "        3.8468e-03, 9.0960e-03, 9.0150e-03, 5.1250e-04, 3.6647e-05, 1.8727e-04,\n",
      "        1.3100e-04, 3.4820e-05, 3.4820e-05, 1.0181e-03, 1.4443e-02, 1.1930e-02,\n",
      "        1.1197e-04, 7.8600e-05, 3.4826e-05, 3.4826e-05])\n",
      "    labels                       names  samples  group    weight\n",
      "0        0                  coco_train   106386      0  0.000056\n",
      "1        0                   ffhq_1-5k     4475      1  0.001201\n",
      "2        1                  gated_conv     1802      8  0.001068\n",
      "3        1                       glide      884      8  0.001889\n",
      "4        0                    metfaces     1204      2  0.002685\n",
      "5        1           sgan2_0.5psi_ffhq      906      9  0.000834\n",
      "6        1           sgan2_1.0psi_ffhq      909      9  0.000832\n",
      "7        1                sgan3_r_ffhq      204      9  0.002748\n",
      "8        1               sgan3_r_ffhqu      154      9  0.003442\n",
      "9        1            sgan3_r_metfaces       88     10  0.009179\n",
      "10       1           sgan3_r_metfacesu       86     10  0.009349\n",
      "11       1                sgan3_t_ffhq      298      9  0.002030\n",
      "12       1               sgan3_t_ffhqu      134      9  0.003847\n",
      "13       1            sgan3_t_metfaces       89     10  0.009096\n",
      "14       1           sgan3_t_metfacesu       90     10  0.009015\n",
      "15       1             transf_seg_coco     4514      8  0.000512\n",
      "16       1          transf_uncond_ffhq    45022      9  0.000037\n",
      "17       0                     zafhqv2    15803      3  0.000187\n",
      "18       0                   zcelebahq    30000      4  0.000131\n",
      "19       0               zdalle_inputs    50004      5  0.000035\n",
      "20       1      zdalle_reconstructions    50004     13  0.000035\n",
      "21       0              zimagenet_test     5499      6  0.001018\n",
      "22       1             zsgan3_r_afhqv2      100     11  0.014443\n",
      "23       1             zsgan3_t_afhqv2      127     11  0.011930\n",
      "24       1        ztrans_classcond_cin    50000     14  0.000112\n",
      "25       1            ztransf_celebahq    50000     12  0.000079\n",
      "26       0           zvqgan1024_inputs    49992      7  0.000035\n",
      "27       1  zvqgan1024_reconstructions    49992     15  0.000035\n"
     ]
    }
   ],
   "source": [
    "import torch\n",
    "import sys\n",
    "sys.path.append('../src/')\n",
    "from data import VIPDataModule\n",
    "from transform import ProvidedTransform\n",
    "\n",
    "dm = VIPDataModule(num_train_samples=20000, num_val_samples=1000, test_data_path=\"/mnt/hdd-data/DeepfakeIEEE/notebooks/val_wsubset.pt\")\n",
    "df = dm.setup()\n",
    "print(df)"
   ]
  },
  {
   "cell_type": "code",
   "execution_count": 6,
   "metadata": {
    "scrolled": true
   },
   "outputs": [
    {
     "name": "stdout",
     "output_type": "stream",
     "text": [
      "518766\n",
      "5563509007783190999 5193285296525143110\n"
     ]
    }
   ],
   "source": [
    "labels = torch.tensor(dm.train_dataset.targets)\n",
    "print(len(dm.train_dataset))\n",
    "print(hash(tuple(dm.train_dataset.targets[::50])),hash(tuple(dm.train_dataset.targets)))"
   ]
  },
  {
   "cell_type": "code",
   "execution_count": 8,
   "metadata": {},
   "outputs": [
    {
     "name": "stdout",
     "output_type": "stream",
     "text": [
      "['../original/coco_train/000000065562.jpg', '../original/coco_train/000000278166.jpg', '../original/coco_train/000000110353.jpg']\n",
      "[('/mnt/hdd-data/DeepfakeIEEE/original/coco_train/000000000009.jpg', 0), ('/mnt/hdd-data/DeepfakeIEEE/original/coco_train/000000000025.jpg', 0), ('/mnt/hdd-data/DeepfakeIEEE/original/coco_train/000000000030.jpg', 0)]\n"
     ]
    }
   ],
   "source": [
    "val_wsubset = torch.load(\"/mnt/hdd-data/DeepfakeIEEE/notebooks/val_wsubset.pt\")\n",
    "val_filenames = [val_wsubset[0].dataset.samples[i][0] for i in val_wsubset[0].indices]\n",
    "print(val_filenames[:3])\n",
    "print(dm.train_dataset.samples[:3])"
   ]
  }
 ],
 "metadata": {
  "kernelspec": {
   "display_name": "Python 3",
   "language": "python",
   "name": "python3"
  },
  "language_info": {
   "codemirror_mode": {
    "name": "ipython",
    "version": 3
   },
   "file_extension": ".py",
   "mimetype": "text/x-python",
   "name": "python",
   "nbconvert_exporter": "python",
   "pygments_lexer": "ipython3",
   "version": "3.10.4"
  },
  "vscode": {
   "interpreter": {
    "hash": "fb565dd9ff4663d2e4c84b321523ad437fe3e130218d1a3a0d8b44d8c32c8f8b"
   }
  }
 },
 "nbformat": 4,
 "nbformat_minor": 2
}
